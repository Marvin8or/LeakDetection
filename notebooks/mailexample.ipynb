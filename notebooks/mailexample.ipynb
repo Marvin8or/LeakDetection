{
 "cells": [
  {
   "cell_type": "code",
   "execution_count": 32,
   "id": "e7dd30fb",
   "metadata": {},
   "outputs": [],
   "source": [
    "email_sender = \"mail1\"\n",
    "email_password = \"psw\"\n",
    "email_reciever = \"mail2\"\n",
    "\n",
    "subject = \"Test mail from BURA Gmail account\""
   ]
  },
  {
   "cell_type": "code",
   "execution_count": 33,
   "id": "b965229d",
   "metadata": {},
   "outputs": [],
   "source": [
    "import datetime\n",
    "mail_creation_date = str(datetime.datetime.now())\n",
    "body = f\"This mail was created {mail_creation_date}\""
   ]
  },
  {
   "cell_type": "code",
   "execution_count": 34,
   "id": "9ab113df",
   "metadata": {},
   "outputs": [],
   "source": [
    "from email.message import EmailMessage"
   ]
  },
  {
   "cell_type": "code",
   "execution_count": 35,
   "id": "76e20bfc",
   "metadata": {},
   "outputs": [],
   "source": [
    "em = EmailMessage()\n",
    "em[\"From\"] = email_sender\n",
    "em[\"To\"] = email_reciever\n",
    "em[\"Subject\"] = subject\n",
    "em.set_content(body)"
   ]
  },
  {
   "cell_type": "code",
   "execution_count": 36,
   "id": "614e7b62",
   "metadata": {},
   "outputs": [],
   "source": [
    "import ssl\n",
    "context = ssl.create_default_context()"
   ]
  },
  {
   "cell_type": "code",
   "execution_count": 37,
   "id": "5a29e948",
   "metadata": {},
   "outputs": [],
   "source": [
    "import smtplib\n",
    "\n",
    "with smtplib.SMTP_SSL(\"smtp.gmail.com\", 465, context=context) as smtp:\n",
    "    smtp.login(email_sender, email_password)\n",
    "    smtp.sendmail(email_sender, email_reciever, em.as_string())"
   ]
  },
  {
   "cell_type": "code",
   "execution_count": 38,
   "id": "6eda0150",
   "metadata": {},
   "outputs": [],
   "source": [
    "def func():\n",
    "    print(str(datetime.datetime.now()))"
   ]
  },
  {
   "cell_type": "code",
   "execution_count": 44,
   "id": "c992b28f",
   "metadata": {},
   "outputs": [
    {
     "name": "stdout",
     "output_type": "stream",
     "text": [
      "2022-09-11 14:13:19.597519\n"
     ]
    }
   ],
   "source": [
    "func()"
   ]
  },
  {
   "cell_type": "code",
   "execution_count": 43,
   "id": "42e9794b",
   "metadata": {},
   "outputs": [
    {
     "name": "stdout",
     "output_type": "stream",
     "text": [
      "2022-09-11 14:13:15.211624\n"
     ]
    }
   ],
   "source": [
    "func()"
   ]
  },
  {
   "cell_type": "code",
   "execution_count": null,
   "id": "d1d06d7d",
   "metadata": {},
   "outputs": [],
   "source": []
  },
  {
   "cell_type": "code",
   "execution_count": null,
   "id": "08737d3a",
   "metadata": {},
   "outputs": [],
   "source": []
  }
 ],
 "metadata": {
  "kernelspec": {
   "display_name": "Python 3 (ipykernel)",
   "language": "python",
   "name": "python3"
  },
  "language_info": {
   "codemirror_mode": {
    "name": "ipython",
    "version": 3
   },
   "file_extension": ".py",
   "mimetype": "text/x-python",
   "name": "python",
   "nbconvert_exporter": "python",
   "pygments_lexer": "ipython3",
   "version": "3.9.13"
  }
 },
 "nbformat": 4,
 "nbformat_minor": 5
}
