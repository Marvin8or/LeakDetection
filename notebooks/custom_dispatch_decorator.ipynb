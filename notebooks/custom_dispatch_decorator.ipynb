{
 "cells": [
  {
   "cell_type": "code",
   "execution_count": 96,
   "id": "ccc2dad9",
   "metadata": {},
   "outputs": [],
   "source": [
    "user_options = {}\n",
    "def dispatch_user_options(fn):\n",
    "    \n",
    "    \n",
    "    registry = {}\n",
    "    \n",
    "    if len(registry) == 0:\n",
    "        registry[fn.__name__] = fn\n",
    "        \n",
    "    def register(fn):\n",
    "        registry[fn.__name__] = fn\n",
    "        return fn\n",
    "    \n",
    "    def set_all(*args, **kwargs):\n",
    "        for f in registry.values():\n",
    "            print(f.__name__)\n",
    "            f(*args, **kwargs)\n",
    "        \n",
    "    set_all.register = register\n",
    "    \n",
    "    return set_all"
   ]
  },
  {
   "cell_type": "code",
   "execution_count": 92,
   "id": "d329d931",
   "metadata": {},
   "outputs": [],
   "source": [
    "\n",
    "@dispatch_user_options\n",
    "def set_1():\n",
    "    global user_options\n",
    "    user_options['1'] = 1\n",
    "\n",
    "#set_1 = dispatch_user_options(set_1)\n",
    "\n",
    "@set_1.register\n",
    "def set_2():\n",
    "    global user_options\n",
    "    user_options['2'] = 2\n",
    "    \n",
    "@set_1.register\n",
    "def set_3():\n",
    "    global user_options\n",
    "    user_options['3'] = 3"
   ]
  },
  {
   "cell_type": "code",
   "execution_count": 93,
   "id": "9855ace3",
   "metadata": {},
   "outputs": [
    {
     "data": {
      "text/plain": [
       "{}"
      ]
     },
     "execution_count": 93,
     "metadata": {},
     "output_type": "execute_result"
    }
   ],
   "source": [
    "\n",
    "user_options"
   ]
  },
  {
   "cell_type": "code",
   "execution_count": 94,
   "id": "4f1a53f7",
   "metadata": {},
   "outputs": [
    {
     "name": "stdout",
     "output_type": "stream",
     "text": [
      "set_1\n",
      "set_2\n",
      "set_3\n"
     ]
    }
   ],
   "source": [
    "set_1()"
   ]
  },
  {
   "cell_type": "code",
   "execution_count": 95,
   "id": "1e2b513d",
   "metadata": {},
   "outputs": [
    {
     "data": {
      "text/plain": [
       "{'1': 1, '2': 2, '3': 3}"
      ]
     },
     "execution_count": 95,
     "metadata": {},
     "output_type": "execute_result"
    }
   ],
   "source": [
    "user_options"
   ]
  },
  {
   "cell_type": "code",
   "execution_count": null,
   "id": "7d138c18",
   "metadata": {},
   "outputs": [],
   "source": []
  }
 ],
 "metadata": {
  "kernelspec": {
   "display_name": "Python 3 (ipykernel)",
   "language": "python",
   "name": "python3"
  },
  "language_info": {
   "codemirror_mode": {
    "name": "ipython",
    "version": 3
   },
   "file_extension": ".py",
   "mimetype": "text/x-python",
   "name": "python",
   "nbconvert_exporter": "python",
   "pygments_lexer": "ipython3",
   "version": "3.9.13"
  }
 },
 "nbformat": 4,
 "nbformat_minor": 5
}
