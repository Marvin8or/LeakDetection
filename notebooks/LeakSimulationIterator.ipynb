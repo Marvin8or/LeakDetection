{
 "cells": [
  {
   "cell_type": "code",
   "execution_count": 32,
   "id": "6fa19e98",
   "metadata": {},
   "outputs": [],
   "source": [
    "import wntr\n",
    "import os\n",
    "from pathlib import Path\n",
    "import pickle"
   ]
  },
  {
   "cell_type": "code",
   "execution_count": 33,
   "id": "099c0c3d",
   "metadata": {},
   "outputs": [],
   "source": [
    "INP_FILE = r'C:\\Users\\Gabriel\\Documents\\Projects\\leak-detection-env\\LeakDetection\\networks\\Example_1.inp'\n",
    "wn = wntr.network.WaterNetworkModel(INP_FILE)\n",
    "wn.options.time.duration = 24 * 3600\n",
    "wn.options.time.hydraulic_timestep = 60 * 60\n",
    "wn.options.time.report_timestep = 60 * 60\n",
    "wn.options.hydraulic.demand_model = \"PDD\"\n",
    "wn.options.hydraulic.required_pressure = 15\n",
    "wn.options.hydraulic.minimum_pressure = 0\n"
   ]
  },
  {
   "cell_type": "code",
   "execution_count": 67,
   "id": "cd4f138f",
   "metadata": {},
   "outputs": [],
   "source": [
    "class WaterNetworkLeakSimulations:\n",
    "\n",
    "    def __init__(self, wn, simulations_per_process: int):\n",
    "        self.wn = wn\n",
    "        self.simulations_per_process = simulations_per_process\n",
    "        self._pickle_files_path = Path(\"C:\\\\Users\\\\Gabriel\\\\Documents\\\\Projects\\\\leak-detection-env\\\\LeakDetection\", \n",
    "                                       \"pickle_files\")\n",
    "        with open(Path(self._pickle_files_path, f\"simulation_0.pickle\"), \"wb\") as pickleObj:\n",
    "            pickle.dump(wn, pickleObj)\n",
    "    \n",
    "    def __len__(self):\n",
    "        return self.simulations_per_process\n",
    "\n",
    "#     @property\n",
    "#     def leak_params:\n",
    "#         pass\n",
    "            \n",
    "    def __iter__(self):\n",
    "        return self.WaterNetworkLeakSimulationIterator(self)\n",
    "            \n",
    "    def log_results(self, sim_indx):\n",
    "        print(f\"Simulation {sim_indx} results...\")\n",
    "    \n",
    "    class WaterNetworkLeakSimulationIterator:\n",
    "\n",
    "        def __init__(self, iterable):\n",
    "            self.iterable = iterable\n",
    "            self.sim = wntr.sim.WNTRSimulator(self.iterable.wn)\n",
    "            self.sim_indx = 0\n",
    "            \n",
    "        def __iter__(self):\n",
    "            return self\n",
    "        \n",
    "        def __next__(self):\n",
    "            if self.sim_indx <= len(self.iterable):\n",
    "                \n",
    "                results = self.sim.run_sim()\n",
    "                \n",
    "                self.iterable.log_results(self.sim_indx)\n",
    "                self.sim_indx += 1\n",
    "                \n",
    "                with open(Path(self.iterable._pickle_files_path, f\"simulation_0.pickle\"), \"rb\") as pickleObj:\n",
    "                    wn = pickle.load(pickleObj)\n",
    "                return results\n",
    "            else:\n",
    "                raise StopIteration\n",
    "                "
   ]
  },
  {
   "cell_type": "code",
   "execution_count": 68,
   "id": "cd2f39c5",
   "metadata": {},
   "outputs": [],
   "source": [
    "simulations = WaterNetworkLeakSimulations(wn, 10)    \n",
    "# sim_iter = iter(simulations)\n",
    "# results = next(sim_iter)\n",
    "# print(results.node[\"pressure\"])"
   ]
  },
  {
   "cell_type": "code",
   "execution_count": 70,
   "id": "b803e063",
   "metadata": {},
   "outputs": [
    {
     "name": "stdout",
     "output_type": "stream",
     "text": [
      "Simulation 0 results...\n",
      "done 0\n",
      "Simulation 1 results...\n",
      "done 1\n",
      "Simulation 2 results...\n",
      "done 2\n",
      "Simulation 3 results...\n",
      "done 3\n",
      "Simulation 4 results...\n",
      "done 4\n",
      "Simulation 5 results...\n",
      "done 5\n",
      "Simulation 6 results...\n",
      "done 6\n",
      "Simulation 7 results...\n",
      "done 7\n",
      "Simulation 8 results...\n",
      "done 8\n",
      "Simulation 9 results...\n",
      "done 9\n",
      "Simulation 10 results...\n",
      "done 10\n"
     ]
    }
   ],
   "source": [
    "for indx, leak_simulation_results in enumerate(simulations):\n",
    "    print(\"done\", indx)\n",
    "#     self._arange_dataset_features(_initial_dataset, indx, leak_simulation_results, simulation._leak_node)\n"
   ]
  },
  {
   "cell_type": "code",
   "execution_count": null,
   "id": "daf842f3",
   "metadata": {},
   "outputs": [],
   "source": []
  }
 ],
 "metadata": {
  "kernelspec": {
   "display_name": "Python 3 (ipykernel)",
   "language": "python",
   "name": "python3"
  },
  "language_info": {
   "codemirror_mode": {
    "name": "ipython",
    "version": 3
   },
   "file_extension": ".py",
   "mimetype": "text/x-python",
   "name": "python",
   "nbconvert_exporter": "python",
   "pygments_lexer": "ipython3",
   "version": "3.9.13"
  }
 },
 "nbformat": 4,
 "nbformat_minor": 5
}
